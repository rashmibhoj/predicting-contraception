{
  "nbformat": 4,
  "nbformat_minor": 0,
  "metadata": {
    "kernelspec": {
      "display_name": "Python 3",
      "language": "python",
      "name": "python3"
    },
    "language_info": {
      "codemirror_mode": {
        "name": "ipython",
        "version": 3
      },
      "file_extension": ".py",
      "mimetype": "text/x-python",
      "name": "python",
      "nbconvert_exporter": "python",
      "pygments_lexer": "ipython3",
      "version": "3.7.6"
    },
    "colab": {
      "provenance": []
    }
  },
  "cells": [
    {
      "cell_type": "markdown",
      "metadata": {
        "id": "ClPPDSrqq9J1"
      },
      "source": [
        "### Data 100 Final Project"
      ]
    },
    {
      "cell_type": "code",
      "metadata": {
        "id": "YyghbaYgq9KC",
        "outputId": "e162cec2-0fbe-44a5-86b9-7e06fe453a4c"
      },
      "source": [
        "import numpy as np\n",
        "import pandas as pd\n",
        "import seaborn as sns\n",
        "import matplotlib as plt\n",
        "\n",
        "import warnings\n",
        "warnings.filterwarnings(\"ignore\")\n",
        "!pip install imblearn"
      ],
      "execution_count": null,
      "outputs": [
        {
          "output_type": "stream",
          "text": [
            "Requirement already satisfied: imblearn in /srv/conda/envs/data100/lib/python3.7/site-packages (0.0)\n",
            "Requirement already satisfied: imbalanced-learn in /srv/conda/envs/data100/lib/python3.7/site-packages (from imblearn) (0.6.2)\n",
            "Requirement already satisfied: joblib>=0.11 in /srv/conda/envs/data100/lib/python3.7/site-packages (from imbalanced-learn->imblearn) (0.14.1)\n",
            "Requirement already satisfied: scikit-learn>=0.22 in /srv/conda/envs/data100/lib/python3.7/site-packages (from imbalanced-learn->imblearn) (0.22.1)\n",
            "Requirement already satisfied: scipy>=0.17 in /srv/conda/envs/data100/lib/python3.7/site-packages (from imbalanced-learn->imblearn) (1.4.1)\n",
            "Requirement already satisfied: numpy>=1.11 in /srv/conda/envs/data100/lib/python3.7/site-packages (from imbalanced-learn->imblearn) (1.18.1)\n"
          ],
          "name": "stdout"
        }
      ]
    },
    {
      "cell_type": "code",
      "metadata": {
        "id": "sHYYhPAVq9KG",
        "outputId": "79c141c0-e10b-42c5-f59a-a39d1d8d32e3"
      },
      "source": [
        "from sklearn.utils import shuffle\n",
        "\n",
        "contraceptive_dset = pd.read_csv('contraceptive_for_students.csv')\n",
        "contraceptive_dset = shuffle(contraceptive_dset, random_state = 78)\n",
        "\n",
        "contraceptive_dset.head()"
      ],
      "execution_count": null,
      "outputs": [
        {
          "output_type": "execute_result",
          "data": {
            "text/html": [
              "<div>\n",
              "<style scoped>\n",
              "    .dataframe tbody tr th:only-of-type {\n",
              "        vertical-align: middle;\n",
              "    }\n",
              "\n",
              "    .dataframe tbody tr th {\n",
              "        vertical-align: top;\n",
              "    }\n",
              "\n",
              "    .dataframe thead th {\n",
              "        text-align: right;\n",
              "    }\n",
              "</style>\n",
              "<table border=\"1\" class=\"dataframe\">\n",
              "  <thead>\n",
              "    <tr style=\"text-align: right;\">\n",
              "      <th></th>\n",
              "      <th>wife_age</th>\n",
              "      <th>wife_education</th>\n",
              "      <th>husband_education</th>\n",
              "      <th>num_child</th>\n",
              "      <th>wife_religion</th>\n",
              "      <th>wife_work</th>\n",
              "      <th>husband_occupation</th>\n",
              "      <th>standard_living</th>\n",
              "      <th>media_exposure</th>\n",
              "      <th>contraceptive</th>\n",
              "    </tr>\n",
              "  </thead>\n",
              "  <tbody>\n",
              "    <tr>\n",
              "      <th>1172</th>\n",
              "      <td>34</td>\n",
              "      <td>3</td>\n",
              "      <td>4</td>\n",
              "      <td>4</td>\n",
              "      <td>0</td>\n",
              "      <td>1</td>\n",
              "      <td>3</td>\n",
              "      <td>1</td>\n",
              "      <td>1</td>\n",
              "      <td>1</td>\n",
              "    </tr>\n",
              "    <tr>\n",
              "      <th>770</th>\n",
              "      <td>26</td>\n",
              "      <td>4</td>\n",
              "      <td>4</td>\n",
              "      <td>3</td>\n",
              "      <td>1</td>\n",
              "      <td>1</td>\n",
              "      <td>3</td>\n",
              "      <td>4</td>\n",
              "      <td>0</td>\n",
              "      <td>3</td>\n",
              "    </tr>\n",
              "    <tr>\n",
              "      <th>442</th>\n",
              "      <td>46</td>\n",
              "      <td>4</td>\n",
              "      <td>4</td>\n",
              "      <td>2</td>\n",
              "      <td>1</td>\n",
              "      <td>0</td>\n",
              "      <td>1</td>\n",
              "      <td>4</td>\n",
              "      <td>0</td>\n",
              "      <td>2</td>\n",
              "    </tr>\n",
              "    <tr>\n",
              "      <th>1115</th>\n",
              "      <td>21</td>\n",
              "      <td>4</td>\n",
              "      <td>4</td>\n",
              "      <td>1</td>\n",
              "      <td>1</td>\n",
              "      <td>1</td>\n",
              "      <td>3</td>\n",
              "      <td>4</td>\n",
              "      <td>0</td>\n",
              "      <td>1</td>\n",
              "    </tr>\n",
              "    <tr>\n",
              "      <th>1086</th>\n",
              "      <td>27</td>\n",
              "      <td>4</td>\n",
              "      <td>4</td>\n",
              "      <td>2</td>\n",
              "      <td>1</td>\n",
              "      <td>0</td>\n",
              "      <td>1</td>\n",
              "      <td>4</td>\n",
              "      <td>0</td>\n",
              "      <td>1</td>\n",
              "    </tr>\n",
              "  </tbody>\n",
              "</table>\n",
              "</div>"
            ],
            "text/plain": [
              "      wife_age  wife_education  husband_education  num_child  wife_religion  \\\n",
              "1172        34               3                  4          4              0   \n",
              "770         26               4                  4          3              1   \n",
              "442         46               4                  4          2              1   \n",
              "1115        21               4                  4          1              1   \n",
              "1086        27               4                  4          2              1   \n",
              "\n",
              "      wife_work  husband_occupation  standard_living  media_exposure  \\\n",
              "1172          1                   3                1               1   \n",
              "770           1                   3                4               0   \n",
              "442           0                   1                4               0   \n",
              "1115          1                   3                4               0   \n",
              "1086          0                   1                4               0   \n",
              "\n",
              "      contraceptive  \n",
              "1172              1  \n",
              "770               3  \n",
              "442               2  \n",
              "1115              1  \n",
              "1086              1  "
            ]
          },
          "metadata": {
            "tags": []
          },
          "execution_count": 53
        }
      ]
    },
    {
      "cell_type": "markdown",
      "metadata": {
        "id": "07jytmuzq9KH"
      },
      "source": [
        "#### Exploratory Data Visualizations"
      ]
    },
    {
      "cell_type": "code",
      "metadata": {
        "scrolled": true,
        "id": "CBYerLCpq9KH",
        "outputId": "fbb50ef5-5637-4eb0-97e7-ed6e2270db13"
      },
      "source": [
        "sns.distplot(contraceptive_dset['wife_age']).set_title('Distribution of Wife Age')"
      ],
      "execution_count": null,
      "outputs": [
        {
          "output_type": "execute_result",
          "data": {
            "text/plain": [
              "Text(0.5, 1.0, 'Distribution of Wife Age')"
            ]
          },
          "metadata": {
            "tags": []
          },
          "execution_count": 54
        },
        {
          "output_type": "display_data",
          "data": {
            "image/png": "[encoded data removed]",
            "text/plain": [
              "<Figure size 432x288 with 1 Axes>"
            ]
          },
          "metadata": {
            "tags": [],
            "needs_background": "light"
          }
        }
      ]
    },
    {
      "cell_type": "code",
      "metadata": {
        "id": "E10qjFdMq9KJ",
        "outputId": "3a5cfacf-a8cf-4086-be05-1a9d3e772334"
      },
      "source": [
        "sns.heatmap(contraceptive_dset.corr()) #checking initial correlation between x variables and y"
      ],
      "execution_count": null,
      "outputs": [
        {
          "output_type": "execute_result",
          "data": {
            "text/plain": [
              "<matplotlib.axes._subplots.AxesSubplot at 0x7fa911ee9890>"
            ]
          },
          "metadata": {
            "tags": []
          },
          "execution_count": 55
        },
        {
          "output_type": "display_data",
          "data": {
            "image/png": "[encoded data removed]",
            "text/plain": [
              "<Figure size 432x288 with 2 Axes>"
            ]
          },
          "metadata": {
            "tags": [],
            "needs_background": "light"
          }
        }
      ]
    },
    {
      "cell_type": "code",
      "metadata": {
        "id": "04Sr6yUSq9KK",
        "outputId": "d7245bad-6d9b-4b7e-e440-9a2a435e1f77"
      },
      "source": [
        "contraceptive_dset.var() #check variance"
      ],
      "execution_count": null,
      "outputs": [
        {
          "output_type": "execute_result",
          "data": {
            "text/plain": [
              "wife_age              67.687556\n",
              "wife_education         1.030213\n",
              "husband_education      0.666425\n",
              "num_child              5.562753\n",
              "wife_religion          0.127134\n",
              "wife_work              0.187882\n",
              "husband_occupation     0.747978\n",
              "standard_living        0.952889\n",
              "media_exposure         0.068569\n",
              "contraceptive          0.768035\n",
              "dtype: float64"
            ]
          },
          "metadata": {
            "tags": []
          },
          "execution_count": 56
        }
      ]
    },
    {
      "cell_type": "code",
      "metadata": {
        "id": "N6rnnwhNq9KL",
        "outputId": "954eef5f-0a74-46cc-b338-7d67637b1bae"
      },
      "source": [
        "contraceptive_dset.plot.scatter(x='wife_age', y='num_child').set_title('Wife Age vs. Number of Children')"
      ],
      "execution_count": null,
      "outputs": [
        {
          "output_type": "execute_result",
          "data": {
            "text/plain": [
              "Text(0.5, 1.0, 'Wife Age vs. Number of Children')"
            ]
          },
          "metadata": {
            "tags": []
          },
          "execution_count": 57
        },
        {
          "output_type": "display_data",
          "data": {
            "image/png": "[encoded data removed]",
            "text/plain": [
              "<Figure size 432x288 with 1 Axes>"
            ]
          },
          "metadata": {
            "tags": [],
            "needs_background": "light"
          }
        }
      ]
    },
    {
      "cell_type": "code",
      "metadata": {
        "id": "PbXt4D0pq9KL",
        "outputId": "fd3e3e72-8495-495e-826a-7a9bfeba1644"
      },
      "source": [
        "#grouping x variables by each contraceptive\n",
        "import seaborn as sns\n",
        "sns.boxplot(x=contraceptive_dset['contraceptive'], y=contraceptive_dset['wife_age']).set_title('Distribution of Contraceptive Methods Among Wife Ages')"
      ],
      "execution_count": null,
      "outputs": [
        {
          "output_type": "execute_result",
          "data": {
            "text/plain": [
              "Text(0.5, 1.0, 'Distribution of Contraceptive Methods Among Wife Ages')"
            ]
          },
          "metadata": {
            "tags": []
          },
          "execution_count": 58
        },
        {
          "output_type": "display_data",
          "data": {
            "image/png": "[encoded data removed]",
            "text/plain": [
              "<Figure size 432x288 with 1 Axes>"
            ]
          },
          "metadata": {
            "tags": [],
            "needs_background": "light"
          }
        }
      ]
    },
    {
      "cell_type": "code",
      "metadata": {
        "scrolled": true,
        "id": "g6vjpSN8q9KM",
        "outputId": "6db038f0-f501-43e6-fef2-5a0fac705a2f"
      },
      "source": [
        "sns.boxplot(x=contraceptive_dset['contraceptive'], y=contraceptive_dset['num_child']).set_title('Distribution of Contraceptive Methods Among Number of Children')"
      ],
      "execution_count": null,
      "outputs": [
        {
          "output_type": "execute_result",
          "data": {
            "text/plain": [
              "Text(0.5, 1.0, 'Distribution of Contraceptive Methods Among Number of Children')"
            ]
          },
          "metadata": {
            "tags": []
          },
          "execution_count": 59
        },
        {
          "output_type": "display_data",
          "data": {
            "image/png": "[encoded data removed]",
            "text/plain": [
              "<Figure size 432x288 with 1 Axes>"
            ]
          },
          "metadata": {
            "tags": [],
            "needs_background": "light"
          }
        }
      ]
    },
    {
      "cell_type": "code",
      "metadata": {
        "id": "4Yono1pOq9KN",
        "outputId": "54f7b04c-9ef7-47f8-c673-57295fbb408c"
      },
      "source": [
        "df2 = pd.pivot_table(contraceptive_dset.groupby([\"husband_occupation\", \"contraceptive\"]).size().reset_index(name='Count'),\n",
        "                     values='Count',\n",
        "                     columns=['contraceptive'],\n",
        "                     index = \"husband_occupation\", aggfunc=np.sum,\n",
        "                     fill_value=0)\n",
        "df2.plot(kind=\"bar\").set_title('Count per Husband Occupation and Contraceptive Method')"
      ],
      "execution_count": null,
      "outputs": [
        {
          "output_type": "execute_result",
          "data": {
            "text/plain": [
              "Text(0.5, 1.0, 'Count per Husband Occupation and Contraceptive Method')"
            ]
          },
          "metadata": {
            "tags": []
          },
          "execution_count": 72
        },
        {
          "output_type": "display_data",
          "data": {
            "image/png": "[encoded data removed]",
            "text/plain": [
              "<Figure size 432x288 with 1 Axes>"
            ]
          },
          "metadata": {
            "tags": [],
            "needs_background": "light"
          }
        }
      ]
    },
    {
      "cell_type": "code",
      "metadata": {
        "id": "dHyl1OMAq9KO",
        "outputId": "7f0fbb61-9c7f-44e5-f89a-6495e018e539"
      },
      "source": [
        "df2 = pd.pivot_table(contraceptive_dset.groupby([\"standard_living\", \"contraceptive\"]).size().reset_index(name='Count'),\n",
        "                     values='Count',\n",
        "                     columns=['contraceptive'],\n",
        "                     index = \"standard_living\", aggfunc=np.sum,\n",
        "                     fill_value=0)\n",
        "df2.plot(kind=\"bar\").set_title('Count per Standard Living and Contraceptive Method')"
      ],
      "execution_count": null,
      "outputs": [
        {
          "output_type": "execute_result",
          "data": {
            "text/plain": [
              "Text(0.5, 1.0, 'Count per Standard Living and Contraceptive Method')"
            ]
          },
          "metadata": {
            "tags": []
          },
          "execution_count": 70
        },
        {
          "output_type": "display_data",
          "data": {
            "image/png": "[encoded data removed]",
            "text/plain": [
              "<Figure size 432x288 with 1 Axes>"
            ]
          },
          "metadata": {
            "tags": [],
            "needs_background": "light"
          }
        }
      ]
    },
    {
      "cell_type": "code",
      "metadata": {
        "id": "TGzFlDvVq9KP",
        "outputId": "7e3177e8-8d6a-4a0a-f4e1-a2aa5906b0fe"
      },
      "source": [
        "df2 = pd.pivot_table(contraceptive_dset.groupby([\"wife_education\", \"contraceptive\"]).size().reset_index(name='Count'),\n",
        "                     values='Count',\n",
        "                     columns=['contraceptive'],\n",
        "                     index = \"wife_education\", aggfunc=np.sum,\n",
        "                     fill_value=0)\n",
        "df2.plot(kind=\"bar\").set_title('Count per Wife Education and Contraceptive Method')"
      ],
      "execution_count": null,
      "outputs": [
        {
          "output_type": "execute_result",
          "data": {
            "text/plain": [
              "Text(0.5, 1.0, 'Count per Wife Education and Contraceptive Method')"
            ]
          },
          "metadata": {
            "tags": []
          },
          "execution_count": 71
        },
        {
          "output_type": "display_data",
          "data": {
            "image/png": "[encoded data removed]",
            "text/plain": [
              "<Figure size 432x288 with 1 Axes>"
            ]
          },
          "metadata": {
            "tags": [],
            "needs_background": "light"
          }
        }
      ]
    },
    {
      "cell_type": "code",
      "metadata": {
        "id": "z5dojiLBq9KQ",
        "outputId": "f2a6dd00-79c5-47fa-c6c8-77b44d29f331"
      },
      "source": [
        "correlations = contraceptive_dset.corr()\n",
        "correlations = correlations.iloc[:9, :]\n",
        "plt.pyplot.barh(correlations.index, correlations['contraceptive'])\n",
        "plt.pyplot.title('Correlations Between X Variables and Contraceptive')"
      ],
      "execution_count": null,
      "outputs": [
        {
          "output_type": "execute_result",
          "data": {
            "text/plain": [
              "Text(0.5, 1.0, 'Correlations Between X Variables and Contraceptive')"
            ]
          },
          "metadata": {
            "tags": []
          },
          "execution_count": 63
        },
        {
          "output_type": "display_data",
          "data": {
            "image/png": "[encoded data removed]",
            "text/plain": [
              "<Figure size 432x288 with 1 Axes>"
            ]
          },
          "metadata": {
            "tags": [],
            "needs_background": "light"
          }
        }
      ]
    },
    {
      "cell_type": "code",
      "metadata": {
        "id": "LDqsdshIq9KQ",
        "outputId": "4c0c5f6f-dde0-4979-ff91-b2a0d169d670"
      },
      "source": [
        "print('Covariance Matrix')\n",
        "covariance = contraceptive_dset.cov() #checking covariance between variables\n",
        "sns.heatmap(covariance,cbar=True,fmt =' .2f', annot=True, cmap='coolwarm')"
      ],
      "execution_count": null,
      "outputs": [
        {
          "output_type": "stream",
          "text": [
            "Covariance Matrix\n"
          ],
          "name": "stdout"
        },
        {
          "output_type": "execute_result",
          "data": {
            "text/plain": [
              "<matplotlib.axes._subplots.AxesSubplot at 0x1a306ce4e0>"
            ]
          },
          "metadata": {
            "tags": []
          },
          "execution_count": 101
        },
        {
          "output_type": "display_data",
          "data": {
            "image/png": "[encoded data removed]",
            "text/plain": [
              "<Figure size 432x288 with 2 Axes>"
            ]
          },
          "metadata": {
            "tags": [],
            "needs_background": "light"
          }
        }
      ]
    },
    {
      "cell_type": "markdown",
      "metadata": {
        "id": "ddHO-8dOq9KR"
      },
      "source": [
        "#### Baseline Model\n",
        "\n",
        "Predicts the most prevalent class."
      ]
    },
    {
      "cell_type": "code",
      "metadata": {
        "id": "wFs4vmDaq9KS",
        "outputId": "1fbfcb1b-ea2d-4bac-d32d-ed46fc778000"
      },
      "source": [
        "contraceptive_dset[['contraceptive']].groupby('contraceptive').size()"
      ],
      "execution_count": null,
      "outputs": [
        {
          "output_type": "execute_result",
          "data": {
            "text/plain": [
              "contraceptive\n",
              "1    629\n",
              "2    333\n",
              "3    511\n",
              "dtype: int64"
            ]
          },
          "metadata": {
            "tags": []
          },
          "execution_count": 102
        }
      ]
    },
    {
      "cell_type": "code",
      "metadata": {
        "id": "4gRGy049q9KS",
        "outputId": "bde828f5-e077-476c-c0f8-ebe6a93b7793"
      },
      "source": [
        "baseline_accuracy = 627/(629+333+511)\n",
        "print('Baseline Model Accuracy:', np.round(baseline_accuracy, 4) * 100, '%')"
      ],
      "execution_count": null,
      "outputs": [
        {
          "output_type": "stream",
          "text": [
            "Baseline Model Accuracy: 42.57 %\n"
          ],
          "name": "stdout"
        }
      ]
    },
    {
      "cell_type": "markdown",
      "metadata": {
        "id": "AiEiRmd_q9KT"
      },
      "source": [
        "#### Data Cleaning and Feature Engineering"
      ]
    },
    {
      "cell_type": "code",
      "metadata": {
        "id": "Ah3zdnGeq9KU",
        "outputId": "1cb9539a-f2c5-4633-e626-c2d3ef043b6b"
      },
      "source": [
        "from sklearn.preprocessing import OneHotEncoder\n",
        "\n",
        "def ohe(data, column):\n",
        "\n",
        "    oh_enc = OneHotEncoder()\n",
        "    oh_enc.fit(data[[column]])\n",
        "    oh_enc.get_feature_names()\n",
        "    encoded_matrix = oh_enc.transform(data[[column]]).todense()\n",
        "    encoded_data = pd.DataFrame(encoded_matrix)\n",
        "    if (data[column] == 0).any():\n",
        "        encoded_data.columns=[column + '_0', column + '_1']\n",
        "    else:\n",
        "        encoded_data.columns=[column + '_1', column + '_2', column + '_3', column + '_4']\n",
        "    data = data.join(encoded_data)\n",
        "    data = data.drop(column, axis=1)\n",
        "\n",
        "    return data\n",
        "\n",
        "#one-hot encoding numerical variables\n",
        "contraceptive_dset = ohe(contraceptive_dset, 'wife_education')\n",
        "contraceptive_dset = ohe(contraceptive_dset, 'husband_education')\n",
        "contraceptive_dset = ohe(contraceptive_dset, 'wife_religion')\n",
        "contraceptive_dset = ohe(contraceptive_dset, 'wife_work')\n",
        "contraceptive_dset = ohe(contraceptive_dset, 'husband_occupation')\n",
        "contraceptive_dset = ohe(contraceptive_dset, 'standard_living')\n",
        "contraceptive_dset = ohe(contraceptive_dset, 'media_exposure')\n",
        "contraceptive_dset = contraceptive_dset.fillna(0)\n",
        "contraceptive_dset.head()"
      ],
      "execution_count": null,
      "outputs": [
        {
          "output_type": "execute_result",
          "data": {
            "text/html": [
              "<div>\n",
              "<style scoped>\n",
              "    .dataframe tbody tr th:only-of-type {\n",
              "        vertical-align: middle;\n",
              "    }\n",
              "\n",
              "    .dataframe tbody tr th {\n",
              "        vertical-align: top;\n",
              "    }\n",
              "\n",
              "    .dataframe thead th {\n",
              "        text-align: right;\n",
              "    }\n",
              "</style>\n",
              "<table border=\"1\" class=\"dataframe\">\n",
              "  <thead>\n",
              "    <tr style=\"text-align: right;\">\n",
              "      <th></th>\n",
              "      <th>wife_age</th>\n",
              "      <th>num_child</th>\n",
              "      <th>contraceptive</th>\n",
              "      <th>wife_education_1</th>\n",
              "      <th>wife_education_2</th>\n",
              "      <th>wife_education_3</th>\n",
              "      <th>wife_education_4</th>\n",
              "      <th>husband_education_1</th>\n",
              "      <th>husband_education_2</th>\n",
              "      <th>husband_education_3</th>\n",
              "      <th>...</th>\n",
              "      <th>husband_occupation_1</th>\n",
              "      <th>husband_occupation_2</th>\n",
              "      <th>husband_occupation_3</th>\n",
              "      <th>husband_occupation_4</th>\n",
              "      <th>standard_living_1</th>\n",
              "      <th>standard_living_2</th>\n",
              "      <th>standard_living_3</th>\n",
              "      <th>standard_living_4</th>\n",
              "      <th>media_exposure_0</th>\n",
              "      <th>media_exposure_1</th>\n",
              "    </tr>\n",
              "  </thead>\n",
              "  <tbody>\n",
              "    <tr>\n",
              "      <th>1172</th>\n",
              "      <td>34</td>\n",
              "      <td>4</td>\n",
              "      <td>1</td>\n",
              "      <td>0.0</td>\n",
              "      <td>0.0</td>\n",
              "      <td>1.0</td>\n",
              "      <td>0.0</td>\n",
              "      <td>0.0</td>\n",
              "      <td>0.0</td>\n",
              "      <td>1.0</td>\n",
              "      <td>...</td>\n",
              "      <td>0.0</td>\n",
              "      <td>0.0</td>\n",
              "      <td>1.0</td>\n",
              "      <td>0.0</td>\n",
              "      <td>0.0</td>\n",
              "      <td>0.0</td>\n",
              "      <td>1.0</td>\n",
              "      <td>0.0</td>\n",
              "      <td>1.0</td>\n",
              "      <td>0.0</td>\n",
              "    </tr>\n",
              "    <tr>\n",
              "      <th>770</th>\n",
              "      <td>26</td>\n",
              "      <td>3</td>\n",
              "      <td>3</td>\n",
              "      <td>0.0</td>\n",
              "      <td>0.0</td>\n",
              "      <td>1.0</td>\n",
              "      <td>0.0</td>\n",
              "      <td>0.0</td>\n",
              "      <td>0.0</td>\n",
              "      <td>1.0</td>\n",
              "      <td>...</td>\n",
              "      <td>0.0</td>\n",
              "      <td>1.0</td>\n",
              "      <td>0.0</td>\n",
              "      <td>0.0</td>\n",
              "      <td>0.0</td>\n",
              "      <td>1.0</td>\n",
              "      <td>0.0</td>\n",
              "      <td>0.0</td>\n",
              "      <td>1.0</td>\n",
              "      <td>0.0</td>\n",
              "    </tr>\n",
              "    <tr>\n",
              "      <th>442</th>\n",
              "      <td>46</td>\n",
              "      <td>2</td>\n",
              "      <td>2</td>\n",
              "      <td>0.0</td>\n",
              "      <td>0.0</td>\n",
              "      <td>0.0</td>\n",
              "      <td>1.0</td>\n",
              "      <td>0.0</td>\n",
              "      <td>1.0</td>\n",
              "      <td>0.0</td>\n",
              "      <td>...</td>\n",
              "      <td>0.0</td>\n",
              "      <td>1.0</td>\n",
              "      <td>0.0</td>\n",
              "      <td>0.0</td>\n",
              "      <td>0.0</td>\n",
              "      <td>1.0</td>\n",
              "      <td>0.0</td>\n",
              "      <td>0.0</td>\n",
              "      <td>1.0</td>\n",
              "      <td>0.0</td>\n",
              "    </tr>\n",
              "    <tr>\n",
              "      <th>1115</th>\n",
              "      <td>21</td>\n",
              "      <td>1</td>\n",
              "      <td>1</td>\n",
              "      <td>0.0</td>\n",
              "      <td>1.0</td>\n",
              "      <td>0.0</td>\n",
              "      <td>0.0</td>\n",
              "      <td>0.0</td>\n",
              "      <td>0.0</td>\n",
              "      <td>1.0</td>\n",
              "      <td>...</td>\n",
              "      <td>0.0</td>\n",
              "      <td>1.0</td>\n",
              "      <td>0.0</td>\n",
              "      <td>0.0</td>\n",
              "      <td>0.0</td>\n",
              "      <td>0.0</td>\n",
              "      <td>1.0</td>\n",
              "      <td>0.0</td>\n",
              "      <td>1.0</td>\n",
              "      <td>0.0</td>\n",
              "    </tr>\n",
              "    <tr>\n",
              "      <th>1086</th>\n",
              "      <td>27</td>\n",
              "      <td>2</td>\n",
              "      <td>1</td>\n",
              "      <td>0.0</td>\n",
              "      <td>1.0</td>\n",
              "      <td>0.0</td>\n",
              "      <td>0.0</td>\n",
              "      <td>0.0</td>\n",
              "      <td>0.0</td>\n",
              "      <td>0.0</td>\n",
              "      <td>...</td>\n",
              "      <td>0.0</td>\n",
              "      <td>0.0</td>\n",
              "      <td>1.0</td>\n",
              "      <td>0.0</td>\n",
              "      <td>1.0</td>\n",
              "      <td>0.0</td>\n",
              "      <td>0.0</td>\n",
              "      <td>0.0</td>\n",
              "      <td>1.0</td>\n",
              "      <td>0.0</td>\n",
              "    </tr>\n",
              "  </tbody>\n",
              "</table>\n",
              "<p>5 rows × 25 columns</p>\n",
              "</div>"
            ],
            "text/plain": [
              "      wife_age  num_child  contraceptive  wife_education_1  wife_education_2  \\\n",
              "1172        34          4              1               0.0               0.0   \n",
              "770         26          3              3               0.0               0.0   \n",
              "442         46          2              2               0.0               0.0   \n",
              "1115        21          1              1               0.0               1.0   \n",
              "1086        27          2              1               0.0               1.0   \n",
              "\n",
              "      wife_education_3  wife_education_4  husband_education_1  \\\n",
              "1172               1.0               0.0                  0.0   \n",
              "770                1.0               0.0                  0.0   \n",
              "442                0.0               1.0                  0.0   \n",
              "1115               0.0               0.0                  0.0   \n",
              "1086               0.0               0.0                  0.0   \n",
              "\n",
              "      husband_education_2  husband_education_3        ...         \\\n",
              "1172                  0.0                  1.0        ...          \n",
              "770                   0.0                  1.0        ...          \n",
              "442                   1.0                  0.0        ...          \n",
              "1115                  0.0                  1.0        ...          \n",
              "1086                  0.0                  0.0        ...          \n",
              "\n",
              "      husband_occupation_1  husband_occupation_2  husband_occupation_3  \\\n",
              "1172                   0.0                   0.0                   1.0   \n",
              "770                    0.0                   1.0                   0.0   \n",
              "442                    0.0                   1.0                   0.0   \n",
              "1115                   0.0                   1.0                   0.0   \n",
              "1086                   0.0                   0.0                   1.0   \n",
              "\n",
              "      husband_occupation_4  standard_living_1  standard_living_2  \\\n",
              "1172                   0.0                0.0                0.0   \n",
              "770                    0.0                0.0                1.0   \n",
              "442                    0.0                0.0                1.0   \n",
              "1115                   0.0                0.0                0.0   \n",
              "1086                   0.0                1.0                0.0   \n",
              "\n",
              "      standard_living_3  standard_living_4  media_exposure_0  media_exposure_1  \n",
              "1172                1.0                0.0               1.0               0.0  \n",
              "770                 0.0                0.0               1.0               0.0  \n",
              "442                 0.0                0.0               1.0               0.0  \n",
              "1115                1.0                0.0               1.0               0.0  \n",
              "1086                0.0                0.0               1.0               0.0  \n",
              "\n",
              "[5 rows x 25 columns]"
            ]
          },
          "metadata": {
            "tags": []
          },
          "execution_count": 104
        }
      ]
    },
    {
      "cell_type": "markdown",
      "metadata": {
        "id": "tThjGu4zq9KV"
      },
      "source": [
        "##### Normalize Data"
      ]
    },
    {
      "cell_type": "code",
      "metadata": {
        "id": "iN-LzQE_q9KV"
      },
      "source": [
        "def normalize(col):\n",
        "    return (col - min(col)) / (max(col) - min(col))\n",
        "\n",
        "contraceptive_dset['wife_age'] = normalize(contraceptive_dset['wife_age'])\n",
        "contraceptive_dset['num_child'] = normalize(contraceptive_dset['num_child'])"
      ],
      "execution_count": null,
      "outputs": []
    },
    {
      "cell_type": "markdown",
      "metadata": {
        "id": "u7Fg1a_fq9KV"
      },
      "source": [
        "##### Feature Engineering"
      ]
    },
    {
      "cell_type": "code",
      "metadata": {
        "id": "ilu2teCUq9KW"
      },
      "source": [
        "contraceptive_dset['wife_age**2'] = contraceptive_dset['wife_age'] ** 2"
      ],
      "execution_count": null,
      "outputs": []
    },
    {
      "cell_type": "code",
      "metadata": {
        "id": "392PkM18q9KW"
      },
      "source": [
        "contraceptive_dset['wife_age*num_child'] = contraceptive_dset['wife_age'] * contraceptive_dset['num_child']"
      ],
      "execution_count": null,
      "outputs": []
    },
    {
      "cell_type": "code",
      "metadata": {
        "id": "nWwxfBE6q9KX"
      },
      "source": [
        "contraceptive_dset['wife_ed4*num_child'] = contraceptive_dset['wife_education_4'] * contraceptive_dset['num_child']\n",
        "contraceptive_dset['wife_ed1*num_child'] = contraceptive_dset['wife_education_1'] * contraceptive_dset['num_child']"
      ],
      "execution_count": null,
      "outputs": []
    },
    {
      "cell_type": "code",
      "metadata": {
        "id": "Bt061jiOq9KX"
      },
      "source": [
        "contraceptive_dset['wife_ed1**2'] = contraceptive_dset['wife_education_1']**2\n",
        "contraceptive_dset['wife_ed4**2'] = contraceptive_dset['wife_education_4']**2"
      ],
      "execution_count": null,
      "outputs": []
    },
    {
      "cell_type": "code",
      "metadata": {
        "id": "r90A76B6q9KX"
      },
      "source": [
        "contraceptive_dset['standard_living1**2'] = contraceptive_dset['standard_living_1'] **2\n",
        "contraceptive_dset['standard_living3**2'] = contraceptive_dset['standard_living_3'] **2"
      ],
      "execution_count": null,
      "outputs": []
    },
    {
      "cell_type": "code",
      "metadata": {
        "id": "_LmffmhIq9KY"
      },
      "source": [
        "contraceptive_dset['wife_religion1*num_child'] = contraceptive_dset['wife_religion_1'] * contraceptive_dset['num_child']"
      ],
      "execution_count": null,
      "outputs": []
    },
    {
      "cell_type": "code",
      "metadata": {
        "id": "yotg3aTWq9KY"
      },
      "source": [
        "contraceptive_dset['ed1*media'] = contraceptive_dset['wife_education_1'] * contraceptive_dset['media_exposure_1']"
      ],
      "execution_count": null,
      "outputs": []
    },
    {
      "cell_type": "code",
      "metadata": {
        "id": "LlyjVsUPq9KZ"
      },
      "source": [
        "contraceptive_dset['wife_age*wife_ed4'] = contraceptive_dset['wife_education_4'] * contraceptive_dset['wife_age']\n",
        "contraceptive_dset['wife_age*wife_ed1'] = contraceptive_dset['wife_education_1'] * contraceptive_dset['wife_age']"
      ],
      "execution_count": null,
      "outputs": []
    },
    {
      "cell_type": "markdown",
      "metadata": {
        "id": "Smgs1rw0q9KZ"
      },
      "source": [
        "#### Break Into Training and Test Sets"
      ]
    },
    {
      "cell_type": "code",
      "metadata": {
        "id": "VwBAzV3kq9Ka",
        "outputId": "82df3b53-8a0e-43d7-aee0-f23bb467a0f2"
      },
      "source": [
        "from sklearn.model_selection import train_test_split\n",
        "\n",
        "train, test = train_test_split(contraceptive_dset, test_size=0.15, random_state=0)\n",
        "X_train, Y_train = train.drop('contraceptive', axis=1), train.iloc[:,2]\n",
        "X_test, Y_test = test.drop('contraceptive', axis=1), test.iloc[:,2]\n",
        "\n",
        "print('Number of items in training set:', len(X_train))\n",
        "print('Number of items in the test set:', len(X_test))"
      ],
      "execution_count": null,
      "outputs": [
        {
          "output_type": "stream",
          "text": [
            "Number of items in training set: 1252\n",
            "Number of items in the test set: 221\n"
          ],
          "name": "stdout"
        }
      ]
    },
    {
      "cell_type": "code",
      "metadata": {
        "id": "l42_bxmaq9Kb"
      },
      "source": [
        "from imblearn.over_sampling import SMOTE # oversampling; creates a more balanced dataset\n",
        "sm = SMOTE(random_state = 1)\n",
        "\n",
        "X_train_res, Y_train_res = sm.fit_sample(X_train, Y_train)"
      ],
      "execution_count": null,
      "outputs": []
    },
    {
      "cell_type": "markdown",
      "metadata": {
        "id": "HsbZHg8cq9Kc"
      },
      "source": [
        "#### Fit Models"
      ]
    },
    {
      "cell_type": "code",
      "metadata": {
        "id": "plrlcBpPq9Kc",
        "outputId": "e975d7da-d95b-445e-e593-b831790bae50"
      },
      "source": [
        "# logistic regression\n",
        "\n",
        "from sklearn.linear_model import LogisticRegression\n",
        "from sklearn.model_selection import cross_val_score\n",
        "\n",
        "model = LogisticRegression(penalty='l2', random_state = 100)\n",
        "scores_logistic_regression = cross_val_score(model, X_train_res, Y_train_res, cv=5)\n",
        "\n",
        "print(\"Cross-Validated Training Accuracy: %0.2f (+/- %0.2f)\" % (scores_logistic_regression.mean(), scores_logistic_regression.std() * 2))"
      ],
      "execution_count": null,
      "outputs": [
        {
          "output_type": "stream",
          "text": [
            "Cross-Validated Training Accuracy: 0.47 (+/- 0.07)\n"
          ],
          "name": "stdout"
        }
      ]
    },
    {
      "cell_type": "code",
      "metadata": {
        "id": "9t18mKHlq9Kd",
        "outputId": "4a1ddb4f-8878-4d1a-e061-fb00effc74e6"
      },
      "source": [
        "# random forest classifier\n",
        "\n",
        "from sklearn.ensemble import RandomForestClassifier\n",
        "\n",
        "model = RandomForestClassifier(random_state = 100)\n",
        "scores_random_forest = cross_val_score(model, X_train_res, Y_train_res, cv=5)\n",
        "\n",
        "print(\"Cross-Validated Training Accuracy: %0.2f (+/- %0.2f)\" % (scores_random_forest.mean(), scores_random_forest.std() * 2))"
      ],
      "execution_count": null,
      "outputs": [
        {
          "output_type": "stream",
          "text": [
            "Cross-Validated Training Accuracy: 0.57 (+/- 0.14)\n"
          ],
          "name": "stdout"
        }
      ]
    },
    {
      "cell_type": "code",
      "metadata": {
        "id": "GWSCqjEIq9Ke",
        "outputId": "b9dba556-9211-4b9e-9990-92f21a31fce8"
      },
      "source": [
        "# support vector machine\n",
        "\n",
        "from sklearn.svm import SVC\n",
        "\n",
        "model = SVC(gamma='auto', random_state = 100)\n",
        "scores_svc = cross_val_score(model, X_train_res, Y_train_res, cv=5)\n",
        "\n",
        "print(\"Cross-Validated Training Accuracy: %0.2f (+/- %0.2f)\" % (scores_svc.mean(), scores_svc.std() * 2))"
      ],
      "execution_count": null,
      "outputs": [
        {
          "output_type": "stream",
          "text": [
            "Cross-Validated Training Accuracy: 0.43 (+/- 0.04)\n"
          ],
          "name": "stdout"
        }
      ]
    },
    {
      "cell_type": "code",
      "metadata": {
        "id": "b3bd_abKq9Ke",
        "outputId": "6a58e6f3-e7d2-48e4-c571-69266e1f3e9e"
      },
      "source": [
        "# grid search to find best model parameters\n",
        "\n",
        "from sklearn.model_selection import GridSearchCV\n",
        "\n",
        "param_grid = {\n",
        "    'n_estimators': [200, 500],\n",
        "    'max_features': ['auto', 'sqrt', 'log2'],\n",
        "    'max_depth' : [4,5,6,7,8],\n",
        "    'criterion' :['gini', 'entropy']}\n",
        "\n",
        "model = RandomForestClassifier(random_state=100)\n",
        "CV_rfc = GridSearchCV(estimator=model, param_grid=param_grid, cv=5)\n",
        "CV_rfc.fit(X_train_res, Y_train_res)\n",
        "CV_rfc.best_params_"
      ],
      "execution_count": null,
      "outputs": [
        {
          "output_type": "execute_result",
          "data": {
            "text/plain": [
              "{'criterion': 'gini',\n",
              " 'max_depth': 8,\n",
              " 'max_features': 'auto',\n",
              " 'n_estimators': 500}"
            ]
          },
          "metadata": {
            "tags": []
          },
          "execution_count": 51
        }
      ]
    },
    {
      "cell_type": "code",
      "metadata": {
        "id": "nfCyK4udq9Kf",
        "outputId": "acb1bba0-8dcc-42c1-c8eb-bdb2945b2fff"
      },
      "source": [
        "# updated random forest classifier\n",
        "\n",
        "final_model = RandomForestClassifier(random_state=100, max_features='auto', n_estimators=500, max_depth=8, criterion='gini')\n",
        "final_model.fit(X_train_res, Y_train_res)\n",
        "scores_random_forest = cross_val_score(final_model, X_train_res, Y_train_res, cv=5)\n",
        "\n",
        "print(\"Accuracy: %0.2f (+/- %0.2f)\" % (scores_random_forest.mean(), scores_random_forest.std() * 2))"
      ],
      "execution_count": null,
      "outputs": [
        {
          "output_type": "stream",
          "text": [
            "Accuracy: 0.57 (+/- 0.11)\n"
          ],
          "name": "stdout"
        }
      ]
    },
    {
      "cell_type": "code",
      "metadata": {
        "id": "bOUtKvMOq9Kg",
        "outputId": "f493e3a7-5ae0-4c24-e575-575e3b2e0268"
      },
      "source": [
        "print('Training improvement over baseline model:', np.round((scores_random_forest.mean() - baseline_accuracy), 5) * 100 , '%')"
      ],
      "execution_count": null,
      "outputs": [
        {
          "output_type": "stream",
          "text": [
            "Training improvement over baseline model: 14.37 %\n"
          ],
          "name": "stdout"
        }
      ]
    },
    {
      "cell_type": "markdown",
      "metadata": {
        "id": "FZY76I9Rq9Kg"
      },
      "source": [
        "#### Test Set Accuracy"
      ]
    },
    {
      "cell_type": "code",
      "metadata": {
        "id": "XWjI7snDq9Kg",
        "outputId": "5432442c-4a66-4d81-c3b5-e4fd1455b502"
      },
      "source": [
        "test_acc = final_model.score(X_test, Y_test)\n",
        "print('Test Accuracy:', np.round(test_acc, 5))"
      ],
      "execution_count": null,
      "outputs": [
        {
          "output_type": "stream",
          "text": [
            "Test Accuracy: 0.55656\n"
          ],
          "name": "stdout"
        }
      ]
    },
    {
      "cell_type": "code",
      "metadata": {
        "id": "QeqU-Q2Wq9Kh",
        "outputId": "a68f4f97-543d-4524-f74e-90de6681bef6"
      },
      "source": [
        "print('Training improvement over baseline model:', np.round((test_acc - baseline_accuracy),2) * 100 , '%')"
      ],
      "execution_count": null,
      "outputs": [
        {
          "output_type": "stream",
          "text": [
            "Training improvement over baseline model: 13.0 %\n"
          ],
          "name": "stdout"
        }
      ]
    }
  ]
}